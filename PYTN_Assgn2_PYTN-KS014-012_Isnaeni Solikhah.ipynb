{
 "cells": [
  {
   "attachments": {},
   "cell_type": "markdown",
   "metadata": {},
   "source": [
    "DESCRIPTIVE AND INFERENTIAL STATISTIC"
   ]
  },
  {
   "attachments": {},
   "cell_type": "markdown",
   "metadata": {},
   "source": [
    "Langkah pertama adalah dengan dengan membaca data csv dengan terlebih dahulu mengimport semua packages yang diperlukan"
   ]
  },
  {
   "cell_type": "code",
   "execution_count": 2,
   "metadata": {},
   "outputs": [],
   "source": [
    "# import semua packages yang diperlukan\n",
    "import math\n",
    "import statistics\n",
    "import numpy as np\n",
    "import scipy.stats\n",
    "import pandas as pd"
   ]
  },
  {
   "cell_type": "code",
   "execution_count": 3,
   "metadata": {},
   "outputs": [
    {
     "name": "stdout",
     "output_type": "stream",
     "text": [
      "Data read into a pandas dataframe!\n"
     ]
    }
   ],
   "source": [
    "# membaca file csv menggunakan pandas\n",
    "data = pd.read_csv(\"nyc_rolling_sales.csv\")\n",
    "\n",
    "print(\"Data read into a pandas dataframe!\")"
   ]
  },
  {
   "attachments": {},
   "cell_type": "markdown",
   "metadata": {},
   "source": [
    "Untuk melihat ukuran data, gunakan shape"
   ]
  },
  {
   "cell_type": "code",
   "execution_count": 4,
   "metadata": {},
   "outputs": [
    {
     "data": {
      "text/plain": [
       "(84548, 22)"
      ]
     },
     "execution_count": 4,
     "metadata": {},
     "output_type": "execute_result"
    }
   ],
   "source": [
    "data.shape"
   ]
  },
  {
   "attachments": {},
   "cell_type": "markdown",
   "metadata": {},
   "source": [
    "Kemudian tampilkan data bagian head"
   ]
  },
  {
   "cell_type": "code",
   "execution_count": 5,
   "metadata": {},
   "outputs": [
    {
     "data": {
      "text/html": [
       "<div>\n",
       "<style scoped>\n",
       "    .dataframe tbody tr th:only-of-type {\n",
       "        vertical-align: middle;\n",
       "    }\n",
       "\n",
       "    .dataframe tbody tr th {\n",
       "        vertical-align: top;\n",
       "    }\n",
       "\n",
       "    .dataframe thead th {\n",
       "        text-align: right;\n",
       "    }\n",
       "</style>\n",
       "<table border=\"1\" class=\"dataframe\">\n",
       "  <thead>\n",
       "    <tr style=\"text-align: right;\">\n",
       "      <th></th>\n",
       "      <th>Unnamed: 0</th>\n",
       "      <th>BOROUGH</th>\n",
       "      <th>NEIGHBORHOOD</th>\n",
       "      <th>BUILDING CLASS CATEGORY</th>\n",
       "      <th>TAX CLASS AT PRESENT</th>\n",
       "      <th>BLOCK</th>\n",
       "      <th>LOT</th>\n",
       "      <th>EASE-MENT</th>\n",
       "      <th>BUILDING CLASS AT PRESENT</th>\n",
       "      <th>ADDRESS</th>\n",
       "      <th>...</th>\n",
       "      <th>RESIDENTIAL UNITS</th>\n",
       "      <th>COMMERCIAL UNITS</th>\n",
       "      <th>TOTAL UNITS</th>\n",
       "      <th>LAND SQUARE FEET</th>\n",
       "      <th>GROSS SQUARE FEET</th>\n",
       "      <th>YEAR BUILT</th>\n",
       "      <th>TAX CLASS AT TIME OF SALE</th>\n",
       "      <th>BUILDING CLASS AT TIME OF SALE</th>\n",
       "      <th>SALE PRICE</th>\n",
       "      <th>SALE DATE</th>\n",
       "    </tr>\n",
       "  </thead>\n",
       "  <tbody>\n",
       "    <tr>\n",
       "      <th>0</th>\n",
       "      <td>4</td>\n",
       "      <td>1</td>\n",
       "      <td>ALPHABET CITY</td>\n",
       "      <td>07 RENTALS - WALKUP APARTMENTS</td>\n",
       "      <td>2A</td>\n",
       "      <td>392</td>\n",
       "      <td>6</td>\n",
       "      <td></td>\n",
       "      <td>C2</td>\n",
       "      <td>153 AVENUE B</td>\n",
       "      <td>...</td>\n",
       "      <td>5</td>\n",
       "      <td>0</td>\n",
       "      <td>5</td>\n",
       "      <td>1633</td>\n",
       "      <td>6440</td>\n",
       "      <td>1900</td>\n",
       "      <td>2</td>\n",
       "      <td>C2</td>\n",
       "      <td>6625000</td>\n",
       "      <td>2017-07-19 00:00:00</td>\n",
       "    </tr>\n",
       "    <tr>\n",
       "      <th>1</th>\n",
       "      <td>5</td>\n",
       "      <td>1</td>\n",
       "      <td>ALPHABET CITY</td>\n",
       "      <td>07 RENTALS - WALKUP APARTMENTS</td>\n",
       "      <td>2</td>\n",
       "      <td>399</td>\n",
       "      <td>26</td>\n",
       "      <td></td>\n",
       "      <td>C7</td>\n",
       "      <td>234 EAST 4TH   STREET</td>\n",
       "      <td>...</td>\n",
       "      <td>28</td>\n",
       "      <td>3</td>\n",
       "      <td>31</td>\n",
       "      <td>4616</td>\n",
       "      <td>18690</td>\n",
       "      <td>1900</td>\n",
       "      <td>2</td>\n",
       "      <td>C7</td>\n",
       "      <td>-</td>\n",
       "      <td>2016-12-14 00:00:00</td>\n",
       "    </tr>\n",
       "    <tr>\n",
       "      <th>2</th>\n",
       "      <td>6</td>\n",
       "      <td>1</td>\n",
       "      <td>ALPHABET CITY</td>\n",
       "      <td>07 RENTALS - WALKUP APARTMENTS</td>\n",
       "      <td>2</td>\n",
       "      <td>399</td>\n",
       "      <td>39</td>\n",
       "      <td></td>\n",
       "      <td>C7</td>\n",
       "      <td>197 EAST 3RD   STREET</td>\n",
       "      <td>...</td>\n",
       "      <td>16</td>\n",
       "      <td>1</td>\n",
       "      <td>17</td>\n",
       "      <td>2212</td>\n",
       "      <td>7803</td>\n",
       "      <td>1900</td>\n",
       "      <td>2</td>\n",
       "      <td>C7</td>\n",
       "      <td>-</td>\n",
       "      <td>2016-12-09 00:00:00</td>\n",
       "    </tr>\n",
       "    <tr>\n",
       "      <th>3</th>\n",
       "      <td>7</td>\n",
       "      <td>1</td>\n",
       "      <td>ALPHABET CITY</td>\n",
       "      <td>07 RENTALS - WALKUP APARTMENTS</td>\n",
       "      <td>2B</td>\n",
       "      <td>402</td>\n",
       "      <td>21</td>\n",
       "      <td></td>\n",
       "      <td>C4</td>\n",
       "      <td>154 EAST 7TH STREET</td>\n",
       "      <td>...</td>\n",
       "      <td>10</td>\n",
       "      <td>0</td>\n",
       "      <td>10</td>\n",
       "      <td>2272</td>\n",
       "      <td>6794</td>\n",
       "      <td>1913</td>\n",
       "      <td>2</td>\n",
       "      <td>C4</td>\n",
       "      <td>3936272</td>\n",
       "      <td>2016-09-23 00:00:00</td>\n",
       "    </tr>\n",
       "    <tr>\n",
       "      <th>4</th>\n",
       "      <td>8</td>\n",
       "      <td>1</td>\n",
       "      <td>ALPHABET CITY</td>\n",
       "      <td>07 RENTALS - WALKUP APARTMENTS</td>\n",
       "      <td>2A</td>\n",
       "      <td>404</td>\n",
       "      <td>55</td>\n",
       "      <td></td>\n",
       "      <td>C2</td>\n",
       "      <td>301 EAST 10TH   STREET</td>\n",
       "      <td>...</td>\n",
       "      <td>6</td>\n",
       "      <td>0</td>\n",
       "      <td>6</td>\n",
       "      <td>2369</td>\n",
       "      <td>4615</td>\n",
       "      <td>1900</td>\n",
       "      <td>2</td>\n",
       "      <td>C2</td>\n",
       "      <td>8000000</td>\n",
       "      <td>2016-11-17 00:00:00</td>\n",
       "    </tr>\n",
       "  </tbody>\n",
       "</table>\n",
       "<p>5 rows × 22 columns</p>\n",
       "</div>"
      ],
      "text/plain": [
       "   Unnamed: 0  BOROUGH   NEIGHBORHOOD   \n",
       "0           4        1  ALPHABET CITY  \\\n",
       "1           5        1  ALPHABET CITY   \n",
       "2           6        1  ALPHABET CITY   \n",
       "3           7        1  ALPHABET CITY   \n",
       "4           8        1  ALPHABET CITY   \n",
       "\n",
       "                       BUILDING CLASS CATEGORY TAX CLASS AT PRESENT  BLOCK   \n",
       "0  07 RENTALS - WALKUP APARTMENTS                                2A    392  \\\n",
       "1  07 RENTALS - WALKUP APARTMENTS                                 2    399   \n",
       "2  07 RENTALS - WALKUP APARTMENTS                                 2    399   \n",
       "3  07 RENTALS - WALKUP APARTMENTS                                2B    402   \n",
       "4  07 RENTALS - WALKUP APARTMENTS                                2A    404   \n",
       "\n",
       "   LOT EASE-MENT BUILDING CLASS AT PRESENT                 ADDRESS  ...   \n",
       "0    6                                  C2            153 AVENUE B  ...  \\\n",
       "1   26                                  C7   234 EAST 4TH   STREET  ...   \n",
       "2   39                                  C7   197 EAST 3RD   STREET  ...   \n",
       "3   21                                  C4     154 EAST 7TH STREET  ...   \n",
       "4   55                                  C2  301 EAST 10TH   STREET  ...   \n",
       "\n",
       "  RESIDENTIAL UNITS  COMMERCIAL UNITS  TOTAL UNITS  LAND SQUARE FEET   \n",
       "0                 5                 0            5              1633  \\\n",
       "1                28                 3           31              4616   \n",
       "2                16                 1           17              2212   \n",
       "3                10                 0           10              2272   \n",
       "4                 6                 0            6              2369   \n",
       "\n",
       "   GROSS SQUARE FEET YEAR BUILT TAX CLASS AT TIME OF SALE   \n",
       "0               6440       1900                         2  \\\n",
       "1              18690       1900                         2   \n",
       "2               7803       1900                         2   \n",
       "3               6794       1913                         2   \n",
       "4               4615       1900                         2   \n",
       "\n",
       "   BUILDING CLASS AT TIME OF SALE  SALE PRICE            SALE DATE  \n",
       "0                              C2     6625000  2017-07-19 00:00:00  \n",
       "1                              C7         -    2016-12-14 00:00:00  \n",
       "2                              C7         -    2016-12-09 00:00:00  \n",
       "3                              C4     3936272  2016-09-23 00:00:00  \n",
       "4                              C2     8000000  2016-11-17 00:00:00  \n",
       "\n",
       "[5 rows x 22 columns]"
      ]
     },
     "execution_count": 5,
     "metadata": {},
     "output_type": "execute_result"
    }
   ],
   "source": [
    "# Menampilkan dataframe bagian head\n",
    "data.head()"
   ]
  },
  {
   "attachments": {},
   "cell_type": "markdown",
   "metadata": {},
   "source": [
    "Hapus kolom yang tidak digunakan. Kolom Unnamed perlu dihapus karena tidak digunakan dalam analisis. "
   ]
  },
  {
   "cell_type": "code",
   "execution_count": 6,
   "metadata": {},
   "outputs": [],
   "source": [
    "# remove columns Unnaamed\n",
    "data.drop([\"Unnamed: 0\"], axis=1, inplace=True)"
   ]
  },
  {
   "attachments": {},
   "cell_type": "markdown",
   "metadata": {},
   "source": [
    "Cek tipe data setiap kolom"
   ]
  },
  {
   "cell_type": "code",
   "execution_count": 7,
   "metadata": {},
   "outputs": [
    {
     "name": "stdout",
     "output_type": "stream",
     "text": [
      "<class 'pandas.core.frame.DataFrame'>\n",
      "RangeIndex: 84548 entries, 0 to 84547\n",
      "Data columns (total 21 columns):\n",
      " #   Column                          Non-Null Count  Dtype \n",
      "---  ------                          --------------  ----- \n",
      " 0   BOROUGH                         84548 non-null  int64 \n",
      " 1   NEIGHBORHOOD                    84548 non-null  object\n",
      " 2   BUILDING CLASS CATEGORY         84548 non-null  object\n",
      " 3   TAX CLASS AT PRESENT            84548 non-null  object\n",
      " 4   BLOCK                           84548 non-null  int64 \n",
      " 5   LOT                             84548 non-null  int64 \n",
      " 6   EASE-MENT                       84548 non-null  object\n",
      " 7   BUILDING CLASS AT PRESENT       84548 non-null  object\n",
      " 8   ADDRESS                         84548 non-null  object\n",
      " 9   APARTMENT NUMBER                84548 non-null  object\n",
      " 10  ZIP CODE                        84548 non-null  int64 \n",
      " 11  RESIDENTIAL UNITS               84548 non-null  int64 \n",
      " 12  COMMERCIAL UNITS                84548 non-null  int64 \n",
      " 13  TOTAL UNITS                     84548 non-null  int64 \n",
      " 14  LAND SQUARE FEET                84548 non-null  object\n",
      " 15  GROSS SQUARE FEET               84548 non-null  object\n",
      " 16  YEAR BUILT                      84548 non-null  int64 \n",
      " 17  TAX CLASS AT TIME OF SALE       84548 non-null  int64 \n",
      " 18  BUILDING CLASS AT TIME OF SALE  84548 non-null  object\n",
      " 19  SALE PRICE                      84548 non-null  object\n",
      " 20  SALE DATE                       84548 non-null  object\n",
      "dtypes: int64(9), object(12)\n",
      "memory usage: 13.5+ MB\n"
     ]
    }
   ],
   "source": [
    "# Menampilkan dataframe bagian head\n",
    "data.info()"
   ]
  },
  {
   "attachments": {},
   "cell_type": "markdown",
   "metadata": {},
   "source": [
    "Selanjutnya ubah tipe data yang tidak sesuai. "
   ]
  },
  {
   "cell_type": "code",
   "execution_count": 8,
   "metadata": {},
   "outputs": [],
   "source": [
    "# mengubah tipe data SALE PRICE menjadi integer\n",
    "data[['SALE PRICE']] = data[['SALE PRICE']].replace({' -  ':'0'})\n",
    "data[['SALE PRICE']] = data[['SALE PRICE']].astype('float64')\n",
    "data[['SALE PRICE']] = data[['SALE PRICE']].astype('int64')"
   ]
  },
  {
   "cell_type": "code",
   "execution_count": 9,
   "metadata": {},
   "outputs": [],
   "source": [
    "# mengubah tipe data TOTAL UNITS menjadi integer\n",
    "data['TOTAL UNITS'] = data['TOTAL UNITS'].astype('int64')"
   ]
  },
  {
   "cell_type": "code",
   "execution_count": 10,
   "metadata": {},
   "outputs": [
    {
     "data": {
      "text/plain": [
       "0       2017-07-19\n",
       "1       2016-12-14\n",
       "2       2016-12-09\n",
       "3       2016-09-23\n",
       "4       2016-11-17\n",
       "           ...    \n",
       "84543   2016-11-28\n",
       "84544   2017-04-21\n",
       "84545   2017-07-05\n",
       "84546   2016-12-21\n",
       "84547   2016-10-27\n",
       "Name: tanggal_penjualan, Length: 84548, dtype: datetime64[ns]"
      ]
     },
     "execution_count": 10,
     "metadata": {},
     "output_type": "execute_result"
    }
   ],
   "source": [
    "# mengubah kolom tanggal penjualan menjadi tipe date time\n",
    "data['tanggal_penjualan']=pd.to_datetime(data['SALE DATE'])\n",
    "data['tanggal_penjualan']"
   ]
  },
  {
   "attachments": {},
   "cell_type": "markdown",
   "metadata": {},
   "source": [
    "Selanjutnya, cek missing value"
   ]
  },
  {
   "cell_type": "code",
   "execution_count": 11,
   "metadata": {},
   "outputs": [
    {
     "data": {
      "text/plain": [
       "BOROUGH                           0\n",
       "NEIGHBORHOOD                      0\n",
       "BUILDING CLASS CATEGORY           0\n",
       "TAX CLASS AT PRESENT              0\n",
       "BLOCK                             0\n",
       "LOT                               0\n",
       "EASE-MENT                         0\n",
       "BUILDING CLASS AT PRESENT         0\n",
       "ADDRESS                           0\n",
       "APARTMENT NUMBER                  0\n",
       "ZIP CODE                          0\n",
       "RESIDENTIAL UNITS                 0\n",
       "COMMERCIAL UNITS                  0\n",
       "TOTAL UNITS                       0\n",
       "LAND SQUARE FEET                  0\n",
       "GROSS SQUARE FEET                 0\n",
       "YEAR BUILT                        0\n",
       "TAX CLASS AT TIME OF SALE         0\n",
       "BUILDING CLASS AT TIME OF SALE    0\n",
       "SALE PRICE                        0\n",
       "SALE DATE                         0\n",
       "tanggal_penjualan                 0\n",
       "dtype: int64"
      ]
     },
     "execution_count": 11,
     "metadata": {},
     "output_type": "execute_result"
    }
   ],
   "source": [
    "# mengecek missing values\n",
    "data.isnull().sum()"
   ]
  },
  {
   "attachments": {},
   "cell_type": "markdown",
   "metadata": {},
   "source": [
    "Selanjutnya adalah melakukan analisis berikut ini:\n",
    "A. Measure of central tendency: mean, median, modus\n",
    "B. Measure of spread: range, variance, standar deviation\n",
    "C. Probability distribution\n",
    "D. Confidence interval\n",
    "E. Hypothesis testing"
   ]
  },
  {
   "attachments": {},
   "cell_type": "markdown",
   "metadata": {},
   "source": [
    "A. MEASURE OF CENTRAL TENDENCY"
   ]
  },
  {
   "attachments": {},
   "cell_type": "markdown",
   "metadata": {},
   "source": [
    "1. Mean"
   ]
  },
  {
   "attachments": {},
   "cell_type": "markdown",
   "metadata": {},
   "source": [
    "a. Berapa mean penjualan total unit per bulan?"
   ]
  },
  {
   "attachments": {},
   "cell_type": "markdown",
   "metadata": {},
   "source": [
    "Langkah pertama adalah ubah kolom tanggal penjualan menjadi tipe data date time"
   ]
  },
  {
   "cell_type": "code",
   "execution_count": 12,
   "metadata": {},
   "outputs": [
    {
     "data": {
      "text/plain": [
       "0       2017-07-19\n",
       "1       2016-12-14\n",
       "2       2016-12-09\n",
       "3       2016-09-23\n",
       "4       2016-11-17\n",
       "           ...    \n",
       "84543   2016-11-28\n",
       "84544   2017-04-21\n",
       "84545   2017-07-05\n",
       "84546   2016-12-21\n",
       "84547   2016-10-27\n",
       "Name: tanggal_penjualan, Length: 84548, dtype: datetime64[ns]"
      ]
     },
     "execution_count": 12,
     "metadata": {},
     "output_type": "execute_result"
    }
   ],
   "source": [
    "# mengubah kolom tanggal penjualan menjadi tipe date time\n",
    "data['tanggal_penjualan']=pd.to_datetime(data['SALE DATE'])\n",
    "data['tanggal_penjualan']"
   ]
  },
  {
   "attachments": {},
   "cell_type": "markdown",
   "metadata": {},
   "source": [
    "Kemudian, ekstrak bulan dari kolom sale date"
   ]
  },
  {
   "cell_type": "code",
   "execution_count": 13,
   "metadata": {},
   "outputs": [
    {
     "data": {
      "text/plain": [
       "0         7\n",
       "1        12\n",
       "2        12\n",
       "3         9\n",
       "4        11\n",
       "         ..\n",
       "84543    11\n",
       "84544     4\n",
       "84545     7\n",
       "84546    12\n",
       "84547    10\n",
       "Name: bulan_penjualan, Length: 84548, dtype: int32"
      ]
     },
     "execution_count": 13,
     "metadata": {},
     "output_type": "execute_result"
    }
   ],
   "source": [
    "# mengekstrak bulan dari kolom sale date\n",
    "data['bulan_penjualan']=data['tanggal_penjualan'].dt.month\n",
    "data['bulan_penjualan']"
   ]
  },
  {
   "attachments": {},
   "cell_type": "markdown",
   "metadata": {},
   "source": [
    "Selanjutnya kategorikan jumlah total unit yang terjual setiap bulan"
   ]
  },
  {
   "cell_type": "code",
   "execution_count": 14,
   "metadata": {},
   "outputs": [
    {
     "data": {
      "text/plain": [
       "bulan_penjualan\n",
       "1     13291\n",
       "2     12033\n",
       "3     14300\n",
       "4     13036\n",
       "5     17583\n",
       "6     19784\n",
       "7     15038\n",
       "8      9764\n",
       "9     20549\n",
       "10    16068\n",
       "11    17673\n",
       "12    21045\n",
       "Name: TOTAL UNITS, dtype: int64"
      ]
     },
     "execution_count": 14,
     "metadata": {},
     "output_type": "execute_result"
    }
   ],
   "source": [
    "# mengkategorikan jumlah total unit penjualan berdasarkan bulan penjualan\n",
    "group_data=data.groupby('bulan_penjualan')['TOTAL UNITS'].sum()\n",
    "group_data"
   ]
  },
  {
   "attachments": {},
   "cell_type": "markdown",
   "metadata": {},
   "source": [
    "Selanjutnya, hitung mean menggunakan pandas, numpy, atau scipy"
   ]
  },
  {
   "cell_type": "code",
   "execution_count": 15,
   "metadata": {},
   "outputs": [
    {
     "data": {
      "text/plain": [
       "(15847.0, 15847.0, 15847)"
      ]
     },
     "execution_count": 15,
     "metadata": {},
     "output_type": "execute_result"
    }
   ],
   "source": [
    "# menghitung rata-rata menggunakan pandas\n",
    "group_data_mean_np=np.mean(group_data)\n",
    "# menghitung mean menggunakan numpy\n",
    "group_data_mean_pd=pd.Series(group_data).mean()\n",
    "# menghitung mean menggunakan scipy\n",
    "group_data_mean_sp=statistics.mean(group_data)\n",
    "group_data_mean_np, group_data_mean_pd, group_data_mean_sp"
   ]
  },
  {
   "attachments": {},
   "cell_type": "markdown",
   "metadata": {},
   "source": [
    "Berdasarkan perhitungan diatas, rata-rata penjualan total unit per bulan adalah sebesar 15.847 unit. "
   ]
  },
  {
   "attachments": {},
   "cell_type": "markdown",
   "metadata": {},
   "source": [
    "b. Berapa mean penjualan tiap kategori unit (residensial dan komersial) setiap bulan?"
   ]
  },
  {
   "attachments": {},
   "cell_type": "markdown",
   "metadata": {},
   "source": [
    "Pertama-tama, kategorikan jumlah penjualan unit residensial dan komersial setiap bulan"
   ]
  },
  {
   "cell_type": "code",
   "execution_count": 16,
   "metadata": {},
   "outputs": [
    {
     "data": {
      "text/plain": [
       "(bulan_penjualan\n",
       " 1     11399\n",
       " 2     10924\n",
       " 3     12551\n",
       " 4     12120\n",
       " 5     16732\n",
       " 6     18677\n",
       " 7     14062\n",
       " 8      9021\n",
       " 9     18109\n",
       " 10    12923\n",
       " 11    15459\n",
       " 12    19255\n",
       " Name: RESIDENTIAL UNITS, dtype: int64,\n",
       " bulan_penjualan\n",
       " 1     1642\n",
       " 2      957\n",
       " 3     1458\n",
       " 4      721\n",
       " 5      669\n",
       " 6      906\n",
       " 7      817\n",
       " 8      625\n",
       " 9     2146\n",
       " 10    2955\n",
       " 11    1962\n",
       " 12    1507\n",
       " Name: COMMERCIAL UNITS, dtype: int64)"
      ]
     },
     "execution_count": 16,
     "metadata": {},
     "output_type": "execute_result"
    }
   ],
   "source": [
    "# mengkategorikan jumlah penjualan residential unit penjualan berdasarkan bulan penjualan\n",
    "group_data_r=data.groupby('bulan_penjualan')['RESIDENTIAL UNITS'].sum()\n",
    "\n",
    "# mengkategorikan jumlah commercial unit penjualan berdasarkan bulan penjualan\n",
    "group_data_c=data.groupby('bulan_penjualan')['COMMERCIAL UNITS'].sum()\n",
    "\n",
    "# menampilkan data\n",
    "group_data_r, group_data_c"
   ]
  },
  {
   "attachments": {},
   "cell_type": "markdown",
   "metadata": {},
   "source": [
    "Kemudian hitung mean menggunakan pandas, numpy, atau scipy"
   ]
  },
  {
   "cell_type": "code",
   "execution_count": 75,
   "metadata": {},
   "outputs": [
    {
     "data": {
      "text/plain": [
       "(14269.333333333334, 14269.333333333334, 14269.333333333334)"
      ]
     },
     "execution_count": 75,
     "metadata": {},
     "output_type": "execute_result"
    }
   ],
   "source": [
    "# menghitung mean menggunakan pandas\n",
    "group_data_r_mean_np=np.mean(group_data_r)\n",
    "# menghitung mean menggunakan numpy\n",
    "group_data_r_mean_pd=pd.Series(group_data_r).mean()\n",
    "# menghitung mean menggunakan scipy\n",
    "group_data_r_mean_sp=statistics.mean(group_data_r)\n",
    "# menampilkan hasil\n",
    "group_data_r_mean_np, group_data_r_mean_pd, group_data_r_mean_sp"
   ]
  },
  {
   "attachments": {},
   "cell_type": "markdown",
   "metadata": {},
   "source": [
    "Mean penjualan unit residensial tiap bulan adalah 14269 unit"
   ]
  },
  {
   "cell_type": "code",
   "execution_count": 72,
   "metadata": {},
   "outputs": [
    {
     "data": {
      "text/plain": [
       "1363.75"
      ]
     },
     "execution_count": 72,
     "metadata": {},
     "output_type": "execute_result"
    }
   ],
   "source": [
    "# menghitung mean menggunakan pandas\n",
    "group_data_c_mean_np=np.mean(group_data_c)\n",
    "group_data_c_mean_np"
   ]
  },
  {
   "cell_type": "code",
   "execution_count": 73,
   "metadata": {},
   "outputs": [
    {
     "data": {
      "text/plain": [
       "1363.75"
      ]
     },
     "execution_count": 73,
     "metadata": {},
     "output_type": "execute_result"
    }
   ],
   "source": [
    "# menghitung mean menggunakan numpy\n",
    "group_data_c_mean_pd=pd.Series(group_data_c).mean()\n",
    "group_data_c_mean_pd"
   ]
  },
  {
   "cell_type": "code",
   "execution_count": 18,
   "metadata": {},
   "outputs": [
    {
     "data": {
      "text/plain": [
       "1363.75"
      ]
     },
     "execution_count": 18,
     "metadata": {},
     "output_type": "execute_result"
    }
   ],
   "source": [
    "# menghitung mean menggunakan scipy\n",
    "group_data_c_mean_sp=statistics.mean(group_data_c)\n",
    "group_data_c_mean_sp"
   ]
  },
  {
   "attachments": {},
   "cell_type": "markdown",
   "metadata": {},
   "source": [
    "Mean penjualan komersial unit setiap bulan adalah 1364 unit"
   ]
  },
  {
   "attachments": {},
   "cell_type": "markdown",
   "metadata": {},
   "source": [
    "d. Berapa mean total unit yang terjual setiap penjualan"
   ]
  },
  {
   "cell_type": "code",
   "execution_count": 76,
   "metadata": {},
   "outputs": [
    {
     "data": {
      "text/plain": [
       "(2.249183895538629, 2.249183895538629, 2.249183895538629)"
      ]
     },
     "execution_count": 76,
     "metadata": {},
     "output_type": "execute_result"
    }
   ],
   "source": [
    "total_units=data['TOTAL UNITS']\n",
    "# menghitung mean menggunakan pandas\n",
    "total_units_mean_np=np.mean(total_units)\n",
    "# menghitung mean menggunakan numpy\n",
    "total_units_mean_pd=pd.Series(total_units).mean()\n",
    "# menghitung mean menggunakan scipy\n",
    "total_units_mean_sp=statistics.mean(total_units)\n",
    "# menampilkan hasill\n",
    "total_units_mean_np, total_units_mean_pd, total_units_mean_sp"
   ]
  },
  {
   "attachments": {},
   "cell_type": "markdown",
   "metadata": {},
   "source": [
    "Mean total unit yang terjual dalam setiap penjualan adalah sebesar 2.25 atau dibulatkan menjadi 2 unit. "
   ]
  },
  {
   "attachments": {},
   "cell_type": "markdown",
   "metadata": {},
   "source": [
    "2. Median"
   ]
  },
  {
   "attachments": {},
   "cell_type": "markdown",
   "metadata": {},
   "source": [
    "Median dapat dihitung menggunakan numpy, scipy, atau pandas. "
   ]
  },
  {
   "attachments": {},
   "cell_type": "markdown",
   "metadata": {},
   "source": [
    "a. Berapa median penjualan total unit per bulan?"
   ]
  },
  {
   "cell_type": "code",
   "execution_count": 79,
   "metadata": {},
   "outputs": [
    {
     "data": {
      "text/plain": [
       "13291"
      ]
     },
     "execution_count": 79,
     "metadata": {},
     "output_type": "execute_result"
    }
   ],
   "source": [
    "# menghitung modus menggunakan scipy\n",
    "group_data_modus_sp=statistics.mode(group_data)\n",
    "group_data_modus_sp"
   ]
  },
  {
   "attachments": {},
   "cell_type": "markdown",
   "metadata": {},
   "source": [
    "Median total unit penjualan per bulan adalah 13291 unit"
   ]
  },
  {
   "attachments": {},
   "cell_type": "markdown",
   "metadata": {},
   "source": [
    "b. Berapa median penjualan tiap kategori unit (residensial dan komersial) setiap bulan?"
   ]
  },
  {
   "cell_type": "code",
   "execution_count": 80,
   "metadata": {},
   "outputs": [
    {
     "data": {
      "text/plain": [
       "11399"
      ]
     },
     "execution_count": 80,
     "metadata": {},
     "output_type": "execute_result"
    }
   ],
   "source": [
    "# menghitung modus menggunakan scipy\n",
    "group_data_r_modus_sp=statistics.mode(group_data_r)\n",
    "group_data_r_modus_sp"
   ]
  },
  {
   "attachments": {},
   "cell_type": "markdown",
   "metadata": {},
   "source": [
    "Median penjualan unit residensial per bulan adalah 11399 unit"
   ]
  },
  {
   "cell_type": "code",
   "execution_count": 81,
   "metadata": {},
   "outputs": [
    {
     "data": {
      "text/plain": [
       "1642"
      ]
     },
     "execution_count": 81,
     "metadata": {},
     "output_type": "execute_result"
    }
   ],
   "source": [
    "# menghitung modus menggunakan scipy\n",
    "group_data_c_modus_sp=statistics.mode(group_data_c)\n",
    "group_data_c_modus_sp"
   ]
  },
  {
   "attachments": {},
   "cell_type": "markdown",
   "metadata": {},
   "source": [
    "Median penjualan unit komersial per bulan adalah 11399 unit"
   ]
  },
  {
   "attachments": {},
   "cell_type": "markdown",
   "metadata": {},
   "source": [
    "c. Median total unit yang penjualan setiap penjualan"
   ]
  },
  {
   "attachments": {},
   "cell_type": "markdown",
   "metadata": {},
   "source": [
    "3. Modus"
   ]
  },
  {
   "attachments": {},
   "cell_type": "markdown",
   "metadata": {},
   "source": [
    "a. Berdasarkan data tiap penjualan, building class at present dan building class at time of sale jenis apa yang sering kali terjual? "
   ]
  },
  {
   "cell_type": "code",
   "execution_count": 84,
   "metadata": {},
   "outputs": [
    {
     "data": {
      "text/plain": [
       "'D4'"
      ]
     },
     "execution_count": 84,
     "metadata": {},
     "output_type": "execute_result"
    }
   ],
   "source": [
    "bc_present=data['BUILDING CLASS AT PRESENT']\n",
    "# menghitung modus menggunakan scipy\n",
    "bc_present_modus_sp=statistics.mode(bc_present)\n",
    "bc_present_modus_sp"
   ]
  },
  {
   "attachments": {},
   "cell_type": "markdown",
   "metadata": {},
   "source": [
    "Building class at time of sale yang sering terjual dalam setiap penjualan adalah tipe D4"
   ]
  },
  {
   "cell_type": "code",
   "execution_count": 85,
   "metadata": {},
   "outputs": [
    {
     "data": {
      "text/plain": [
       "'R4'"
      ]
     },
     "execution_count": 85,
     "metadata": {},
     "output_type": "execute_result"
    }
   ],
   "source": [
    "bc_sale=data['BUILDING CLASS AT TIME OF SALE']\n",
    "# menghitung modus menggunakan scipy\n",
    "bc_sale_modus_sp=statistics.mode(bc_sale)\n",
    "bc_sale_modus_sp"
   ]
  },
  {
   "attachments": {},
   "cell_type": "markdown",
   "metadata": {},
   "source": [
    "Building class at time of sale yang sering terjual dalam setiap penjualan adalah tipe R4"
   ]
  },
  {
   "attachments": {},
   "cell_type": "markdown",
   "metadata": {},
   "source": [
    "b. Berdasarkan data tiap penjualan, tax class at present dan tax class at time of sale jenis apa yang sering kali terjual? "
   ]
  },
  {
   "cell_type": "code",
   "execution_count": 25,
   "metadata": {},
   "outputs": [
    {
     "data": {
      "text/plain": [
       "'1'"
      ]
     },
     "execution_count": 25,
     "metadata": {},
     "output_type": "execute_result"
    }
   ],
   "source": [
    "tax_present=data['TAX CLASS AT PRESENT']\n",
    "# menghitung modus menggunakan scipy\n",
    "tax_present_modus_sp=statistics.mode(tax_present)\n",
    "tax_present_modus_sp"
   ]
  },
  {
   "cell_type": "code",
   "execution_count": 86,
   "metadata": {},
   "outputs": [
    {
     "data": {
      "text/plain": [
       "1"
      ]
     },
     "execution_count": 86,
     "metadata": {},
     "output_type": "execute_result"
    }
   ],
   "source": [
    "tax_sale=data['TAX CLASS AT TIME OF SALE']\n",
    "# menghitung modus menggunakan scipy\n",
    "tax_sale_modus_sp=statistics.mode(tax_sale)\n",
    "tax_sale_modus_sp"
   ]
  },
  {
   "attachments": {},
   "cell_type": "markdown",
   "metadata": {},
   "source": [
    "Tax class at present dan tax class time of sale yang sering dikenai bangunan adalah jenis pajak 1."
   ]
  },
  {
   "attachments": {},
   "cell_type": "markdown",
   "metadata": {},
   "source": [
    "B. MEASURE OF SPREAD"
   ]
  },
  {
   "attachments": {},
   "cell_type": "markdown",
   "metadata": {},
   "source": [
    "1. Range"
   ]
  },
  {
   "attachments": {},
   "cell_type": "markdown",
   "metadata": {},
   "source": [
    "a. Berapa range total unit penjualan tiap bulan?"
   ]
  },
  {
   "attachments": {},
   "cell_type": "markdown",
   "metadata": {},
   "source": [
    "Range dapat dihitung menggunakan pandas, numpy, atau scipy"
   ]
  },
  {
   "cell_type": "code",
   "execution_count": 89,
   "metadata": {},
   "outputs": [
    {
     "data": {
      "text/plain": [
       "(11281, 11281)"
      ]
     },
     "execution_count": 89,
     "metadata": {},
     "output_type": "execute_result"
    }
   ],
   "source": [
    "# menghitung range menggunakan pandas\n",
    "group_data_range_np=np.ptp(group_data)\n",
    "# menghitung range menggunakan numpy\n",
    "group_data_range_pd=pd.Series(group_data).max()-pd.Series(group_data).min()\n",
    "group_data_range_np, group_data_range_pd"
   ]
  },
  {
   "cell_type": "code",
   "execution_count": 90,
   "metadata": {},
   "outputs": [
    {
     "data": {
      "text/plain": [
       "(21045, 9764)"
      ]
     },
     "execution_count": 90,
     "metadata": {},
     "output_type": "execute_result"
    }
   ],
   "source": [
    "# menentukan nilai tertinggi dan terendah\n",
    "group_data_max=pd.Series(group_data).max()\n",
    "group_data_min=pd.Series(group_data).min()\n",
    "group_data_max, group_data_min\n"
   ]
  },
  {
   "attachments": {},
   "cell_type": "markdown",
   "metadata": {},
   "source": [
    "Range total unit penjualan tiap bulan adalah 4973,5 dengan nilai tertinggi 21045 dan nilai terendah 9764"
   ]
  },
  {
   "attachments": {},
   "cell_type": "markdown",
   "metadata": {},
   "source": [
    "b. Berapa range penjualan unit residensial tiap bulan?"
   ]
  },
  {
   "cell_type": "code",
   "execution_count": 91,
   "metadata": {},
   "outputs": [
    {
     "data": {
      "text/plain": [
       "(10234, 10234)"
      ]
     },
     "execution_count": 91,
     "metadata": {},
     "output_type": "execute_result"
    }
   ],
   "source": [
    "# menghitung range menggunakan pandas\n",
    "group_data_r_range_np=np.ptp(group_data_r)\n",
    "# menghitung range menggunakan numpy\n",
    "group_data_r_range_pd=pd.Series(group_data_r).max()-pd.Series(group_data_r).min()\n",
    "# menampilkan hasil\n",
    "group_data_r_range_np, group_data_r_range_pd"
   ]
  },
  {
   "cell_type": "code",
   "execution_count": 92,
   "metadata": {},
   "outputs": [
    {
     "data": {
      "text/plain": [
       "(19255, 9021)"
      ]
     },
     "execution_count": 92,
     "metadata": {},
     "output_type": "execute_result"
    }
   ],
   "source": [
    "# menentukan nilai tertinggi dan terendah\n",
    "group_data_r_max=pd.Series(group_data_r).max()\n",
    "group_data_r_min=pd.Series(group_data_r).min()\n",
    "group_data_r_max, group_data_r_min"
   ]
  },
  {
   "attachments": {},
   "cell_type": "markdown",
   "metadata": {},
   "source": [
    "Range penjualan unit residensial tiap bulan adalah 5136.5 dengan nilai tertinggi 19255 dan nilai terendah 9021"
   ]
  },
  {
   "attachments": {},
   "cell_type": "markdown",
   "metadata": {},
   "source": [
    "c. Berapa range penjualan unit komersial tiap bulan?"
   ]
  },
  {
   "cell_type": "code",
   "execution_count": 98,
   "metadata": {},
   "outputs": [
    {
     "data": {
      "text/plain": [
       "(2330, 2330)"
      ]
     },
     "execution_count": 98,
     "metadata": {},
     "output_type": "execute_result"
    }
   ],
   "source": [
    "# menghitung range menggunakan pandas\n",
    "group_data_c_range_np=np.ptp(group_data_c)\n",
    "# menghitung range menggunakan numpy\n",
    "group_data_c_range_pd=pd.Series(group_data_c).max()-pd.Series(group_data_c).min()\n",
    "# menampilkan hasil\n",
    "group_data_c_range_np, group_data_c_range_pd"
   ]
  },
  {
   "cell_type": "code",
   "execution_count": 99,
   "metadata": {},
   "outputs": [
    {
     "data": {
      "text/plain": [
       "(2955, 625)"
      ]
     },
     "execution_count": 99,
     "metadata": {},
     "output_type": "execute_result"
    }
   ],
   "source": [
    "# menentukan nilai tertinggi dan terendah\n",
    "group_data_c_max=pd.Series(group_data_c).max()\n",
    "group_data_c_min=pd.Series(group_data_c).min()\n",
    "group_data_c_max, group_data_c_min"
   ]
  },
  {
   "attachments": {},
   "cell_type": "markdown",
   "metadata": {},
   "source": [
    "Range penjualan unit residensial tiap bulan adalah 929 dengan nilai tertinggi 2955 dan nilai terendah 625"
   ]
  },
  {
   "attachments": {},
   "cell_type": "markdown",
   "metadata": {},
   "source": [
    "2. Variation"
   ]
  },
  {
   "attachments": {},
   "cell_type": "markdown",
   "metadata": {},
   "source": [
    "a. Berapa variasi total unit penjualan tiap bulan?"
   ]
  },
  {
   "cell_type": "code",
   "execution_count": 101,
   "metadata": {},
   "outputs": [
    {
     "data": {
      "text/plain": [
       "(12732438.363636363, 12732438.363636363)"
      ]
     },
     "execution_count": 101,
     "metadata": {},
     "output_type": "execute_result"
    }
   ],
   "source": [
    "# menghitung variance menggunakan pandas\n",
    "group_data_var_pd=pd.Series(group_data).var()\n",
    "# menghitung variance menggunakan scipy\n",
    "group_data_var_sp=statistics.variance(group_data)\n",
    "# menampilkan hasil\n",
    "group_data_var_pd, group_data_var_sp"
   ]
  },
  {
   "attachments": {},
   "cell_type": "markdown",
   "metadata": {},
   "source": [
    "Variasi total unit setiap penjualan adalah sebesar 12732438.36"
   ]
  },
  {
   "attachments": {},
   "cell_type": "markdown",
   "metadata": {},
   "source": [
    "b. Berapa variasi total unit residensial dan komersial tiap bulan?"
   ]
  },
  {
   "cell_type": "code",
   "execution_count": 102,
   "metadata": {},
   "outputs": [
    {
     "data": {
      "text/plain": [
       "(11173676.96969697, 11173676.969696969)"
      ]
     },
     "execution_count": 102,
     "metadata": {},
     "output_type": "execute_result"
    }
   ],
   "source": [
    "# menghitung variance menggunakan pandas\n",
    "group_data_var_r_pd=pd.Series(group_data_r).var()\n",
    "# menghitung variance menggunakan scipy\n",
    "group_data_var_r_sp=statistics.variance(group_data_r)\n",
    "# menampilkan hasil\n",
    "group_data_var_r_pd, group_data_var_r_sp"
   ]
  },
  {
   "attachments": {},
   "cell_type": "markdown",
   "metadata": {},
   "source": [
    "Variasi penjualan unit residensial tiap bulan adalah sebesar 11173676.97"
   ]
  },
  {
   "cell_type": "code",
   "execution_count": 106,
   "metadata": {},
   "outputs": [
    {
     "data": {
      "text/plain": [
       "520381.29545454547"
      ]
     },
     "execution_count": 106,
     "metadata": {},
     "output_type": "execute_result"
    }
   ],
   "source": [
    "# menghitung variance menggunakan scipy\n",
    "group_data_var_c_sp=statistics.variance(group_data_c)\n",
    "group_data_var_c_sp"
   ]
  },
  {
   "attachments": {},
   "cell_type": "markdown",
   "metadata": {},
   "source": [
    "Variasi penjualan unit komersial tiap bulan adalah sebesar 520381.30"
   ]
  },
  {
   "attachments": {},
   "cell_type": "markdown",
   "metadata": {},
   "source": [
    "c. Berapa variasi total unit setiap penjualan?"
   ]
  },
  {
   "cell_type": "code",
   "execution_count": 107,
   "metadata": {},
   "outputs": [
    {
     "data": {
      "text/plain": [
       "(359.9547025794672, 359.958960030383, 359.958960030383)"
      ]
     },
     "execution_count": 107,
     "metadata": {},
     "output_type": "execute_result"
    }
   ],
   "source": [
    "# menghitung variance menggunakan numpy\n",
    "total_units_var_np=np.var(total_units)\n",
    "# menghitung variance menggunakan pandas\n",
    "total_units_var_pd=pd.Series(total_units).var()\n",
    "# menghitung variance menggunakan scipy\n",
    "total_units_var_sp=statistics.variance(total_units)\n",
    "total_units_var_np, total_units_var_pd, total_units_var_sp"
   ]
  },
  {
   "attachments": {},
   "cell_type": "markdown",
   "metadata": {},
   "source": [
    "Variasi total unit setiap penjualan adalah sebesar 359.96"
   ]
  },
  {
   "attachments": {},
   "cell_type": "markdown",
   "metadata": {},
   "source": [
    "3. Standar Deviation"
   ]
  },
  {
   "cell_type": "code",
   "execution_count": 38,
   "metadata": {},
   "outputs": [],
   "source": [
    "import numpy as np\n",
    "from scipy import stats"
   ]
  },
  {
   "attachments": {},
   "cell_type": "markdown",
   "metadata": {},
   "source": [
    "a. Berapa standar deviasi total unit penjualan tiap bulan?"
   ]
  },
  {
   "cell_type": "code",
   "execution_count": 39,
   "metadata": {},
   "outputs": [
    {
     "data": {
      "text/plain": [
       "(3416.3433424252507, 3416.3433424252507)"
      ]
     },
     "execution_count": 39,
     "metadata": {},
     "output_type": "execute_result"
    }
   ],
   "source": [
    "# menghitung std menggunakan pandas\n",
    "group_data_std_pd=np.std(group_data)\n",
    "# menghitung std menggunakan numpy\n",
    "group_data_std_np=np.std(group_data)\n",
    "# menghitung std menggunakan scipy\n",
    "\n",
    "group_data_std_pd, group_data_std_np"
   ]
  },
  {
   "attachments": {},
   "cell_type": "markdown",
   "metadata": {},
   "source": [
    "Standar deviasi total unit penjualan tiap bulan adalah sebesar 3416.34"
   ]
  },
  {
   "attachments": {},
   "cell_type": "markdown",
   "metadata": {},
   "source": [
    "b. Berapa standar deviasi penjualan unit residensial dan komersial tiap bulan?"
   ]
  },
  {
   "cell_type": "code",
   "execution_count": 40,
   "metadata": {},
   "outputs": [
    {
     "data": {
      "text/plain": [
       "(3200.3964164181634, 3200.3964164181634)"
      ]
     },
     "execution_count": 40,
     "metadata": {},
     "output_type": "execute_result"
    }
   ],
   "source": [
    "# menghitung std menggunakan pandas\n",
    "group_data_r_std_pd=np.std(group_data_r)\n",
    "# menghitung std menggunakan numpy\n",
    "group_data_r_std_np=np.std(group_data_r)\n",
    "# menghitung std menggunakan scipy\n",
    "\n",
    "group_data_r_std_pd, group_data_r_std_np"
   ]
  },
  {
   "attachments": {},
   "cell_type": "markdown",
   "metadata": {},
   "source": [
    "Standar deviasi penjualan unit residensial tiap bulan adalah sebesar 3200.39"
   ]
  },
  {
   "cell_type": "code",
   "execution_count": 41,
   "metadata": {},
   "outputs": [
    {
     "data": {
      "text/plain": [
       "(690.6635848949907, 690.6635848949907)"
      ]
     },
     "execution_count": 41,
     "metadata": {},
     "output_type": "execute_result"
    }
   ],
   "source": [
    "# menghitung std menggunakan pandas\n",
    "group_data_c_std_pd=np.std(group_data_c)\n",
    "# menghitung std menggunakan numpy\n",
    "group_data_c_std_np=np.std(group_data_c)\n",
    "# menghitung std menggunakan scipy\n",
    "\n",
    "group_data_c_std_pd, group_data_c_std_np"
   ]
  },
  {
   "attachments": {},
   "cell_type": "markdown",
   "metadata": {},
   "source": [
    "Standar deviasi penjualan unit komersial tiap bulan adalah sebesar 690.66"
   ]
  },
  {
   "attachments": {},
   "cell_type": "markdown",
   "metadata": {},
   "source": [
    "c. Berapa standar deviasi total unit penjualan dalam setiap penjualan?"
   ]
  },
  {
   "cell_type": "code",
   "execution_count": 42,
   "metadata": {},
   "outputs": [
    {
     "data": {
      "text/plain": [
       "(18.972472231616713, 18.972472231616713)"
      ]
     },
     "execution_count": 42,
     "metadata": {},
     "output_type": "execute_result"
    }
   ],
   "source": [
    "# menghitung std menggunakan pandas\n",
    "total_units_std_pd=np.std(total_units)\n",
    "# menghitung std menggunakan numpy\n",
    "total_units_std_np=np.std(total_units)\n",
    "# menghitung std menggunakan scipy\n",
    "\n",
    "total_units_std_pd, total_units_std_np"
   ]
  },
  {
   "attachments": {},
   "cell_type": "markdown",
   "metadata": {},
   "source": [
    "Standar deviasi total unit penjualan dalam setiap penjualan adalah 18.97"
   ]
  },
  {
   "attachments": {},
   "cell_type": "markdown",
   "metadata": {},
   "source": [
    "C. PROBABILITY DISTRIBUTION"
   ]
  },
  {
   "attachments": {},
   "cell_type": "markdown",
   "metadata": {},
   "source": [
    "Bagaimana distribusi poisson untuk total unit penjualan tiap penjualan?"
   ]
  },
  {
   "attachments": {},
   "cell_type": "markdown",
   "metadata": {},
   "source": [
    "Langkah pertama yaitu import poisson"
   ]
  },
  {
   "cell_type": "code",
   "execution_count": 43,
   "metadata": {},
   "outputs": [],
   "source": [
    "# import poisson\n",
    "from scipy.stats import poisson"
   ]
  },
  {
   "attachments": {},
   "cell_type": "markdown",
   "metadata": {},
   "source": [
    "mu menunjukkan mean yang telah dihitung sebelumnya dan size menunjukkan banyaknya angka acak"
   ]
  },
  {
   "cell_type": "code",
   "execution_count": 44,
   "metadata": {},
   "outputs": [
    {
     "name": "stdout",
     "output_type": "stream",
     "text": [
      "Data total penjualan unit\n",
      "[0 4 0 ... 6 3 1]\n"
     ]
    }
   ],
   "source": [
    "# jumlah total penjualan dalam sebulan\n",
    "total_units_poisson=poisson.rvs(mu=2.25, size=84547)\n",
    "\n",
    "# menampilkan total unit penjualan per bulan\n",
    "print('Data total penjualan unit')\n",
    "print(total_units_poisson)"
   ]
  },
  {
   "attachments": {},
   "cell_type": "markdown",
   "metadata": {},
   "source": [
    "Kemudian visualisasikan data. Import seaborn dan matplotlib.pyplot"
   ]
  },
  {
   "cell_type": "code",
   "execution_count": 45,
   "metadata": {},
   "outputs": [],
   "source": [
    "import seaborn as sns\n",
    "import matplotlib.pyplot as plt"
   ]
  },
  {
   "cell_type": "code",
   "execution_count": 46,
   "metadata": {},
   "outputs": [
    {
     "data": {
      "image/png": "[encoded data removed]",
      "text/plain": [
       "<Figure size 640x480 with 1 Axes>"
      ]
     },
     "metadata": {},
     "output_type": "display_data"
    }
   ],
   "source": [
    "# Visualisasi data total unit penjualan per bulan  menggunakan seaborn\n",
    "sns.histplot(total_units_poisson, kde=False)\n",
    "plt.xlabel('Total Unit Penjualan')\n",
    "plt.ylabel('Frekuensi')\n",
    "plt.title('Distribusi Total Penjualan Tiap Penjualan')\n",
    "plt.show()"
   ]
  },
  {
   "attachments": {},
   "cell_type": "markdown",
   "metadata": {},
   "source": [
    "Distribusi total penjualan tiap penjualan menjulur ke kanan yang menunjukkan bahwa lebih banyak total unit penjualan tiap penjualan yang memiliki nilai lebih tinggi dari rata-rata unit terjual dalam setiap penjualan"
   ]
  },
  {
   "attachments": {},
   "cell_type": "markdown",
   "metadata": {},
   "source": [
    "D. CONFIDENCE INTERVAL"
   ]
  },
  {
   "attachments": {},
   "cell_type": "markdown",
   "metadata": {},
   "source": [
    "1. Berapa confidence interval (CI) unit residensial dan komersial dari jumlah total unit yang terjual tiap bulan?"
   ]
  },
  {
   "attachments": {},
   "cell_type": "markdown",
   "metadata": {},
   "source": [
    "Langkah pertama yaitu menghitung jumlah total unit residensial  dan komersial yang terjual"
   ]
  },
  {
   "cell_type": "code",
   "execution_count": 47,
   "metadata": {},
   "outputs": [
    {
     "data": {
      "text/plain": [
       "(171232, 16365)"
      ]
     },
     "execution_count": 47,
     "metadata": {},
     "output_type": "execute_result"
    }
   ],
   "source": [
    "# jumlah unit total residensial\n",
    "tot_res=group_data_r.sum()\n",
    "# jumlah unit total komersial\n",
    "tot_com=group_data_c.sum()\n",
    "# menampilkan hasil total\n",
    "tot_res, tot_com"
   ]
  },
  {
   "attachments": {},
   "cell_type": "markdown",
   "metadata": {},
   "source": [
    "Jumlah total unit residensial dan komersial yang terjual masing-masing adlah 171232 dan 16365 unit"
   ]
  },
  {
   "attachments": {},
   "cell_type": "markdown",
   "metadata": {},
   "source": [
    "Selanjutnya, hitung proporsi residential units yang  terjual terhadap total units yang terjual per bulan"
   ]
  },
  {
   "cell_type": "code",
   "execution_count": 48,
   "metadata": {},
   "outputs": [
    {
     "data": {
      "text/plain": [
       "190164"
      ]
     },
     "execution_count": 48,
     "metadata": {},
     "output_type": "execute_result"
    }
   ],
   "source": [
    "# jumlah total unit\n",
    "tot_units=total_units.sum()\n",
    "tot_units"
   ]
  },
  {
   "attachments": {},
   "cell_type": "markdown",
   "metadata": {},
   "source": [
    "Jumlah total unit yang terjual adalah 1901164"
   ]
  },
  {
   "attachments": {},
   "cell_type": "markdown",
   "metadata": {},
   "source": [
    "Kemudian, cari proporsi residensial dan komersial unit terhadap total unit"
   ]
  },
  {
   "cell_type": "code",
   "execution_count": 49,
   "metadata": {},
   "outputs": [
    {
     "data": {
      "text/plain": [
       "(0.900443827433163, 0.08605729791127659)"
      ]
     },
     "execution_count": 49,
     "metadata": {},
     "output_type": "execute_result"
    }
   ],
   "source": [
    "# proporsi unit residensial terhadap total unit\n",
    "p_res=tot_res/tot_units\n",
    "# proporsi unit komersial terhadap total unit\n",
    "p_com=tot_com/tot_units\n",
    "\n",
    "# menampilkan proporsi\n",
    "p_res, p_com"
   ]
  },
  {
   "attachments": {},
   "cell_type": "markdown",
   "metadata": {},
   "source": [
    "Proporsi unit residensial sebesar 0.90 dan unit komersial sebesar 0.09"
   ]
  },
  {
   "attachments": {},
   "cell_type": "markdown",
   "metadata": {},
   "source": [
    "Selanjutnya, tentukan standar error (SE) proporsi residensial dan komersial unit"
   ]
  },
  {
   "cell_type": "code",
   "execution_count": 50,
   "metadata": {},
   "outputs": [
    {
     "data": {
      "text/plain": [
       "(0.0006865912376070164, 0.0006431158090221504)"
      ]
     },
     "execution_count": 50,
     "metadata": {},
     "output_type": "execute_result"
    }
   ],
   "source": [
    "# SE proporsi unit residensial \n",
    "se_res=np.sqrt(p_res*(1-p_res)/tot_units)\n",
    "# SE proporsi unit kkomersial \n",
    "se_com=np.sqrt(p_com*(1-p_com)/tot_units)\n",
    "# menampilkan hasil\n",
    "se_res, se_com"
   ]
  },
  {
   "attachments": {},
   "cell_type": "markdown",
   "metadata": {},
   "source": [
    "SE dari perhitungan proporsi unit residensial adalah sebesar 0.0007 dan SE dari perhitungan proporsi unit komersial adalah 0.0009. Berdasarkan SE yang didapatkan, maka dapat disimpulkan bahwa perhitungan kedua proporsi tersebut akurat dengan standar kesalahan yang sangat rendah."
   ]
  },
  {
   "attachments": {},
   "cell_type": "markdown",
   "metadata": {},
   "source": [
    "Langkah berikutnya adalah membuat CI 95% sehingga dengan nilai z-score 1.96"
   ]
  },
  {
   "cell_type": "code",
   "execution_count": 51,
   "metadata": {},
   "outputs": [
    {
     "data": {
      "text/plain": [
       "(0.8990981086074532, 0.9017895462588728)"
      ]
     },
     "execution_count": 51,
     "metadata": {},
     "output_type": "execute_result"
    }
   ],
   "source": [
    "# CI unit residensial\n",
    "z_score = 1.96\n",
    "lcb_res=p_res-z_score*se_res # lower limit of CI\n",
    "ucb_res=p_res+z_score*se_res # upper limit of CI\n",
    "lcb_res,ucb_res"
   ]
  },
  {
   "attachments": {},
   "cell_type": "markdown",
   "metadata": {},
   "source": [
    "Dengan tingkat kepercayaan 5%, proporsi unit residensial yang terjual adalah antara 0,899 - 0,902"
   ]
  },
  {
   "cell_type": "code",
   "execution_count": 108,
   "metadata": {},
   "outputs": [
    {
     "data": {
      "text/plain": [
       "(0.08479679092559317, 0.08731780489696)"
      ]
     },
     "execution_count": 108,
     "metadata": {},
     "output_type": "execute_result"
    }
   ],
   "source": [
    "# CI unit komersial\n",
    "z_score = 1.96\n",
    "lcb_com=p_com-z_score*se_com # lower limit of CI\n",
    "ucb_com=p_com+z_score*se_com # upper limit of CI\n",
    "lcb_com,ucb_com"
   ]
  },
  {
   "attachments": {},
   "cell_type": "markdown",
   "metadata": {},
   "source": [
    "Dengan tingkat kepercayaan 5%, proporsi unit komersial yang terjual adalah antara 0,085 - 0,087"
   ]
  },
  {
   "attachments": {},
   "cell_type": "markdown",
   "metadata": {},
   "source": [
    "2. CI rata-rata unit residensial dan komersial yang terjual tiap bulan"
   ]
  },
  {
   "attachments": {},
   "cell_type": "markdown",
   "metadata": {},
   "source": [
    "Data yang dibutuhkan adalah data rata-rata dan standar deviasi residential units dan commercial units yang terjual per bulan, serta jumlah total unit residential dan commercial yang terjual"
   ]
  },
  {
   "cell_type": "code",
   "execution_count": 53,
   "metadata": {},
   "outputs": [
    {
     "data": {
      "text/plain": [
       "(14269.333333333334,\n",
       " 1363.75,\n",
       " 3200.3964164181634,\n",
       " 690.6635848949907,\n",
       " 1.96,\n",
       " 190164)"
      ]
     },
     "execution_count": 53,
     "metadata": {},
     "output_type": "execute_result"
    }
   ],
   "source": [
    "# rata-rata residential dan commercial unit yang terjual\n",
    "mean_res=group_data_r_mean_np\n",
    "mean_com=group_data_c_mean_np\n",
    "\n",
    "# total units\n",
    "tot_units\n",
    "\n",
    "# menghitung standar deviasi residential dan commercial units yang terjual\n",
    "sd_res=np.std(group_data_r)\n",
    "sd_com=np.std(group_data_c)\n",
    "\n",
    "# z-score dengan CI 95%\n",
    "z_score=1.96\n",
    "\n",
    "mean_res, mean_com, sd_res, sd_com, z_score, tot_units"
   ]
  },
  {
   "attachments": {},
   "cell_type": "markdown",
   "metadata": {},
   "source": [
    "Mean unit residensial, mean unit komersial masing-masing sebesar 14269.33 dan 1363.75\n",
    "Standar deviasi unit residensial dan komersial masin-masing adalah 3200.40 dan 690.66\n",
    "Z-score=1.96 \n",
    "Total unit 190.164"
   ]
  },
  {
   "attachments": {},
   "cell_type": "markdown",
   "metadata": {},
   "source": [
    "Menghitung standar eror menggunakan formula standar error mean"
   ]
  },
  {
   "cell_type": "code",
   "execution_count": 54,
   "metadata": {},
   "outputs": [
    {
     "data": {
      "text/plain": [
       "(7.339046230837875, 1.5838075413087407)"
      ]
     },
     "execution_count": 54,
     "metadata": {},
     "output_type": "execute_result"
    }
   ],
   "source": [
    "# SE mean residensial\n",
    "se_mean_res=sd_res/np.sqrt(tot_units)\n",
    "# SE mean komersial\n",
    "se_mean_com=sd_com/np.sqrt(tot_units)\n",
    "# menampilkan hasil\n",
    "se_mean_res, se_mean_com"
   ]
  },
  {
   "attachments": {},
   "cell_type": "markdown",
   "metadata": {},
   "source": [
    "SE mean dari residensial unit yang terjual tiap bulan dan SE mean dari komersial unit yang terjual tiap bulan adalah 7.34 dan 1.58 "
   ]
  },
  {
   "attachments": {},
   "cell_type": "markdown",
   "metadata": {},
   "source": [
    "Menghitung CI penjualan unit residensial dan komersial tiap bulan"
   ]
  },
  {
   "cell_type": "code",
   "execution_count": 55,
   "metadata": {},
   "outputs": [
    {
     "data": {
      "text/plain": [
       "(14254.948802720892, 14283.717863945776)"
      ]
     },
     "execution_count": 55,
     "metadata": {},
     "output_type": "execute_result"
    }
   ],
   "source": [
    "# CI residensial\n",
    "lcb_res = mean_res - z_score* se_mean_res #lower limit of the CI\n",
    "ucb_res = mean_res + z_score* se_mean_res  #upper limit of the CI\n",
    "lcb_res, ucb_res"
   ]
  },
  {
   "attachments": {},
   "cell_type": "markdown",
   "metadata": {},
   "source": [
    "Artinya, dengan tingkat kepercayaan 5% mean dari total unit residensial yang terjual adalah antara 14254,95 - 14283,72 unit per bulan"
   ]
  },
  {
   "cell_type": "code",
   "execution_count": 56,
   "metadata": {},
   "outputs": [
    {
     "data": {
      "text/plain": [
       "(1360.6457372190348, 1366.8542627809652)"
      ]
     },
     "execution_count": 56,
     "metadata": {},
     "output_type": "execute_result"
    }
   ],
   "source": [
    "# CI komersial\n",
    "lcb_com = mean_com - z_score* se_mean_com #lower limit of the CI\n",
    "ucb_com = mean_com + z_score* se_mean_com  #upper limit of the CI\n",
    "lcb_com, ucb_com"
   ]
  },
  {
   "attachments": {},
   "cell_type": "markdown",
   "metadata": {},
   "source": [
    "Artinya, dengan confidence interval 5%, mean dari total unit commercial yang terjual adalah antara 1360,64 - 1366,85 unit per bulan "
   ]
  },
  {
   "attachments": {},
   "cell_type": "markdown",
   "metadata": {},
   "source": [
    "E. Hypothesis Testing"
   ]
  },
  {
   "attachments": {},
   "cell_type": "markdown",
   "metadata": {},
   "source": [
    "Apakah ada korelasi antara tax class at present (jenis pajak saat ini) dengan tax class at time of sale (jenis pajak saat penjualan) "
   ]
  },
  {
   "attachments": {},
   "cell_type": "markdown",
   "metadata": {},
   "source": [
    "Uji chi square dilakukan dengan menggunakan tingkat kepercayaan 5% (alfa 0.05)"
   ]
  },
  {
   "attachments": {},
   "cell_type": "markdown",
   "metadata": {},
   "source": [
    "Hipotesis Nol (H0): Tidak ada hubungan antara jenis pajak saat ini dan jenis pajak saat penjualan\n",
    "Hipotesis Alternatif (H1): Ada hubungan antara jenis pajak saat ini dan jenis pajak saat penjualan"
   ]
  },
  {
   "attachments": {},
   "cell_type": "markdown",
   "metadata": {},
   "source": [
    "Langkah pertama adalah menampilkan kolom yang diperlukan"
   ]
  },
  {
   "cell_type": "code",
   "execution_count": 57,
   "metadata": {},
   "outputs": [
    {
     "data": {
      "text/html": [
       "<div>\n",
       "<style scoped>\n",
       "    .dataframe tbody tr th:only-of-type {\n",
       "        vertical-align: middle;\n",
       "    }\n",
       "\n",
       "    .dataframe tbody tr th {\n",
       "        vertical-align: top;\n",
       "    }\n",
       "\n",
       "    .dataframe thead th {\n",
       "        text-align: right;\n",
       "    }\n",
       "</style>\n",
       "<table border=\"1\" class=\"dataframe\">\n",
       "  <thead>\n",
       "    <tr style=\"text-align: right;\">\n",
       "      <th></th>\n",
       "      <th>TAX CLASS AT PRESENT</th>\n",
       "      <th>TAX CLASS AT TIME OF SALE</th>\n",
       "    </tr>\n",
       "  </thead>\n",
       "  <tbody>\n",
       "    <tr>\n",
       "      <th>0</th>\n",
       "      <td>2A</td>\n",
       "      <td>2</td>\n",
       "    </tr>\n",
       "    <tr>\n",
       "      <th>1</th>\n",
       "      <td>2</td>\n",
       "      <td>2</td>\n",
       "    </tr>\n",
       "    <tr>\n",
       "      <th>2</th>\n",
       "      <td>2</td>\n",
       "      <td>2</td>\n",
       "    </tr>\n",
       "    <tr>\n",
       "      <th>3</th>\n",
       "      <td>2B</td>\n",
       "      <td>2</td>\n",
       "    </tr>\n",
       "    <tr>\n",
       "      <th>4</th>\n",
       "      <td>2A</td>\n",
       "      <td>2</td>\n",
       "    </tr>\n",
       "    <tr>\n",
       "      <th>...</th>\n",
       "      <td>...</td>\n",
       "      <td>...</td>\n",
       "    </tr>\n",
       "    <tr>\n",
       "      <th>84543</th>\n",
       "      <td>1</td>\n",
       "      <td>1</td>\n",
       "    </tr>\n",
       "    <tr>\n",
       "      <th>84544</th>\n",
       "      <td>1</td>\n",
       "      <td>1</td>\n",
       "    </tr>\n",
       "    <tr>\n",
       "      <th>84545</th>\n",
       "      <td>1</td>\n",
       "      <td>1</td>\n",
       "    </tr>\n",
       "    <tr>\n",
       "      <th>84546</th>\n",
       "      <td>4</td>\n",
       "      <td>4</td>\n",
       "    </tr>\n",
       "    <tr>\n",
       "      <th>84547</th>\n",
       "      <td>4</td>\n",
       "      <td>4</td>\n",
       "    </tr>\n",
       "  </tbody>\n",
       "</table>\n",
       "<p>84548 rows × 2 columns</p>\n",
       "</div>"
      ],
      "text/plain": [
       "      TAX CLASS AT PRESENT  TAX CLASS AT TIME OF SALE\n",
       "0                       2A                          2\n",
       "1                        2                          2\n",
       "2                        2                          2\n",
       "3                       2B                          2\n",
       "4                       2A                          2\n",
       "...                    ...                        ...\n",
       "84543                    1                          1\n",
       "84544                    1                          1\n",
       "84545                    1                          1\n",
       "84546                    4                          4\n",
       "84547                    4                          4\n",
       "\n",
       "[84548 rows x 2 columns]"
      ]
     },
     "execution_count": 57,
     "metadata": {},
     "output_type": "execute_result"
    }
   ],
   "source": [
    "dtt=data[['TAX CLASS AT PRESENT', 'TAX CLASS AT TIME OF SALE']]\n",
    "dtt"
   ]
  },
  {
   "attachments": {},
   "cell_type": "markdown",
   "metadata": {},
   "source": [
    "Kemudian import semua packages yang diperlukan"
   ]
  },
  {
   "cell_type": "code",
   "execution_count": 58,
   "metadata": {},
   "outputs": [],
   "source": [
    "import pandas as pd\n",
    "from scipy.stats import chi2_contingency"
   ]
  },
  {
   "cell_type": "code",
   "execution_count": 59,
   "metadata": {},
   "outputs": [
    {
     "name": "stdout",
     "output_type": "stream",
     "text": [
      "Chi-square: 251227.80116687308\n",
      "P-value: 0.0\n",
      "Degrees of Freedom: 30\n"
     ]
    }
   ],
   "source": [
    "# Menghitung uji chi-square\n",
    "chi2, p_value, dof, expected = chi2_contingency(pd.crosstab(data['TAX CLASS AT PRESENT'], data['TAX CLASS AT TIME OF SALE']))\n",
    "\n",
    "# Menampilkan hasil uji chi-square\n",
    "print(\"Chi-square:\", chi2)\n",
    "print(\"P-value:\", p_value)\n",
    "print(\"Degrees of Freedom:\", dof)"
   ]
  },
  {
   "attachments": {},
   "cell_type": "markdown",
   "metadata": {},
   "source": [
    "P-value < 0.05 sehingga terima H0. Ini berarti terdapat hubungan yang signifikan antara jenis pajak saat ini dengan tjenis pajak sat penjualan dengan derajat bebas sebesar 30 dan nilai chi-square 251227.80"
   ]
  },
  {
   "cell_type": "code",
   "execution_count": 60,
   "metadata": {},
   "outputs": [
    {
     "name": "stdout",
     "output_type": "stream",
     "text": [
      "<class 'pandas.core.frame.DataFrame'>\n",
      "RangeIndex: 84548 entries, 0 to 84547\n",
      "Data columns (total 23 columns):\n",
      " #   Column                          Non-Null Count  Dtype         \n",
      "---  ------                          --------------  -----         \n",
      " 0   BOROUGH                         84548 non-null  int64         \n",
      " 1   NEIGHBORHOOD                    84548 non-null  object        \n",
      " 2   BUILDING CLASS CATEGORY         84548 non-null  object        \n",
      " 3   TAX CLASS AT PRESENT            84548 non-null  object        \n",
      " 4   BLOCK                           84548 non-null  int64         \n",
      " 5   LOT                             84548 non-null  int64         \n",
      " 6   EASE-MENT                       84548 non-null  object        \n",
      " 7   BUILDING CLASS AT PRESENT       84548 non-null  object        \n",
      " 8   ADDRESS                         84548 non-null  object        \n",
      " 9   APARTMENT NUMBER                84548 non-null  object        \n",
      " 10  ZIP CODE                        84548 non-null  int64         \n",
      " 11  RESIDENTIAL UNITS               84548 non-null  int64         \n",
      " 12  COMMERCIAL UNITS                84548 non-null  int64         \n",
      " 13  TOTAL UNITS                     84548 non-null  int64         \n",
      " 14  LAND SQUARE FEET                84548 non-null  object        \n",
      " 15  GROSS SQUARE FEET               84548 non-null  object        \n",
      " 16  YEAR BUILT                      84548 non-null  int64         \n",
      " 17  TAX CLASS AT TIME OF SALE       84548 non-null  int64         \n",
      " 18  BUILDING CLASS AT TIME OF SALE  84548 non-null  object        \n",
      " 19  SALE PRICE                      84548 non-null  int64         \n",
      " 20  SALE DATE                       84548 non-null  object        \n",
      " 21  tanggal_penjualan               84548 non-null  datetime64[ns]\n",
      " 22  bulan_penjualan                 84548 non-null  int32         \n",
      "dtypes: datetime64[ns](1), int32(1), int64(10), object(11)\n",
      "memory usage: 14.5+ MB\n"
     ]
    }
   ],
   "source": [
    "data.info()"
   ]
  },
  {
   "attachments": {},
   "cell_type": "markdown",
   "metadata": {},
   "source": [
    "Apakah ada keterkaitan antara tax class at time of sale dengan building class at time of sale"
   ]
  },
  {
   "cell_type": "code",
   "execution_count": 61,
   "metadata": {},
   "outputs": [
    {
     "data": {
      "text/html": [
       "<div>\n",
       "<style scoped>\n",
       "    .dataframe tbody tr th:only-of-type {\n",
       "        vertical-align: middle;\n",
       "    }\n",
       "\n",
       "    .dataframe tbody tr th {\n",
       "        vertical-align: top;\n",
       "    }\n",
       "\n",
       "    .dataframe thead th {\n",
       "        text-align: right;\n",
       "    }\n",
       "</style>\n",
       "<table border=\"1\" class=\"dataframe\">\n",
       "  <thead>\n",
       "    <tr style=\"text-align: right;\">\n",
       "      <th></th>\n",
       "      <th>TAX CLASS AT TIME OF SALE</th>\n",
       "      <th>BUILDING CLASS AT TIME OF SALE</th>\n",
       "    </tr>\n",
       "  </thead>\n",
       "  <tbody>\n",
       "    <tr>\n",
       "      <th>0</th>\n",
       "      <td>2</td>\n",
       "      <td>C2</td>\n",
       "    </tr>\n",
       "    <tr>\n",
       "      <th>1</th>\n",
       "      <td>2</td>\n",
       "      <td>C7</td>\n",
       "    </tr>\n",
       "    <tr>\n",
       "      <th>2</th>\n",
       "      <td>2</td>\n",
       "      <td>C7</td>\n",
       "    </tr>\n",
       "    <tr>\n",
       "      <th>3</th>\n",
       "      <td>2</td>\n",
       "      <td>C4</td>\n",
       "    </tr>\n",
       "    <tr>\n",
       "      <th>4</th>\n",
       "      <td>2</td>\n",
       "      <td>C2</td>\n",
       "    </tr>\n",
       "    <tr>\n",
       "      <th>...</th>\n",
       "      <td>...</td>\n",
       "      <td>...</td>\n",
       "    </tr>\n",
       "    <tr>\n",
       "      <th>84543</th>\n",
       "      <td>1</td>\n",
       "      <td>B9</td>\n",
       "    </tr>\n",
       "    <tr>\n",
       "      <th>84544</th>\n",
       "      <td>1</td>\n",
       "      <td>B9</td>\n",
       "    </tr>\n",
       "    <tr>\n",
       "      <th>84545</th>\n",
       "      <td>1</td>\n",
       "      <td>B2</td>\n",
       "    </tr>\n",
       "    <tr>\n",
       "      <th>84546</th>\n",
       "      <td>4</td>\n",
       "      <td>K6</td>\n",
       "    </tr>\n",
       "    <tr>\n",
       "      <th>84547</th>\n",
       "      <td>4</td>\n",
       "      <td>P9</td>\n",
       "    </tr>\n",
       "  </tbody>\n",
       "</table>\n",
       "<p>84548 rows × 2 columns</p>\n",
       "</div>"
      ],
      "text/plain": [
       "       TAX CLASS AT TIME OF SALE BUILDING CLASS AT TIME OF SALE\n",
       "0                              2                             C2\n",
       "1                              2                             C7\n",
       "2                              2                             C7\n",
       "3                              2                             C4\n",
       "4                              2                             C2\n",
       "...                          ...                            ...\n",
       "84543                          1                             B9\n",
       "84544                          1                             B9\n",
       "84545                          1                             B2\n",
       "84546                          4                             K6\n",
       "84547                          4                             P9\n",
       "\n",
       "[84548 rows x 2 columns]"
      ]
     },
     "execution_count": 61,
     "metadata": {},
     "output_type": "execute_result"
    }
   ],
   "source": [
    "dtbc=data[['TAX CLASS AT TIME OF SALE', 'BUILDING CLASS AT TIME OF SALE']]\n",
    "dtbc"
   ]
  },
  {
   "attachments": {},
   "cell_type": "markdown",
   "metadata": {},
   "source": [
    "KESIMPULAN AKHIR SEMUA ANALISIS"
   ]
  },
  {
   "attachments": {},
   "cell_type": "markdown",
   "metadata": {},
   "source": [
    "- Mean penjualan total unit per bulan adalah sebesar 15.847 unit dengan mean penjualan unit residensial sebesar 14269 unit dan unit komersial sebesar 1364 unit. Mean total unit tiap penjualan adalah 2 unit.\n",
    "- Median penjualan total unit per bulan adalah sebesar 13291 unit dengan median dari penjualan unit residensial setiap bulan  adalah 1399 dan median dari penjualan unit komersial setiap bulan adalah 1642 unit. \n",
    "- Modus dari kelas bangunan saat ini (building class at present) adalah jenis D4 sedangkan modus kelas bangunan saat dijual adalah R4. Modus kelas pajak saat ini (tax class at present) dan saat penjualan (tax class at time of sale) adalah sama yaitu kelas 1.\n",
    "- Range total penjualan unit tiap bulan adalah 11281 dengan total penjualan tertinggi per bulan adalah 21045 unit dan total penjualan terendah tiap bulan ebesar 9764 unit. Range penjualan unit residensial setiap bulan adalah 10234 dengan jumlah tertinggi penjualan unit residensial perbulan adalah 19255 dan penjualan terendah 9021 unit. Range penjualan unit komersial tiap bulan adalah 2330 dengan jumlah penjualan unit komersial tertinggi 2955 dan terendah 625.\n",
    "- Variasi total unit penjualan adalah sebesar 112732438.36 dengan variasi penjualan unit residensial tiap bulan adalah sebesar 11173676.97 dan unit komersial sebesar 520381.30. Variasi total unit setiap penjualan sebesar 359.96.\n",
    "- Standar deviasi total unit penjualan tiap bulan adalah 3416.34 dengan standar deviasi penjualan unit residensial tiap bulan 3200.39 dana unit komersial sebesar 690.66. Standar deviasi total unit penjualan dalam setiap penjualan adalah 18.97. \n",
    "- Distribusi total penjualan tiap penjualan menjulur ke kanan yang menunjukkan bahwa lebih banyak total unit penjualan tiap penjualan yang memiliki nilai lebih tinggi dari rata-rata unit terjual dalam setiap penjualan. \n",
    "- Tingkat kepercayaan 5%, proporsi unit residensial yang terjual adalah antara 0,899 - 0,902 dan cproporsi unit komersial yang terjual adalah antara 0,085 - 0,087. Proporsi unit residensial dan komersial tersebut menghasilkan nilai SE sebesar 0.0009 dab 0.0006 yang menunjukkan perhitungan tersebut akurat, dan kesalahan error yang terjadi sangat kecil. Hasil perhitungan CI menunjukkan bahwa dengan tingkat kepercayaan 5% mean dari total unit residensial yang terjual adalah antara 14254,95 - 14283,72 unit per bulan dan mean total unit komersial sebesar 1360,64 - 1366,85 unit per bulan. SE mean rata-rata unit residensial dan komersial yang terjual per bulan sebesar 7.34 dan 1.58 yang menunjukkan bahwa perhitungan mean raata-rata yang dihasilkan tersebut cukup akurat. \n",
    "- Terdapat hubungan yang signifikan antara tax class at present (jenis pajak saat ini) dengan tax class at time of sale (jenis pajak saat penjualan) dengan P-value sebesar 0.0 "
   ]
  }
 ],
 "metadata": {
  "kernelspec": {
   "display_name": "Python 3",
   "language": "python",
   "name": "python3"
  },
  "language_info": {
   "codemirror_mode": {
    "name": "ipython",
    "version": 3
   },
   "file_extension": ".py",
   "mimetype": "text/x-python",
   "name": "python",
   "nbconvert_exporter": "python",
   "pygments_lexer": "ipython3",
   "version": "3.11.2"
  },
  "orig_nbformat": 4
 },
 "nbformat": 4,
 "nbformat_minor": 2
}
